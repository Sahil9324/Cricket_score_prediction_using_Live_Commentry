{
 "cells": [
  {
   "cell_type": "code",
   "execution_count": 1,
   "id": "16d9ac36-4fb8-49e3-9746-98722598f0f2",
   "metadata": {
    "execution": {
     "iopub.execute_input": "2025-04-10T08:14:54.920208Z",
     "iopub.status.busy": "2025-04-10T08:14:54.920208Z",
     "iopub.status.idle": "2025-04-10T08:14:54.935151Z",
     "shell.execute_reply": "2025-04-10T08:14:54.934644Z"
    }
   },
   "outputs": [],
   "source": [
    "text = open(\"transcriptions.txt\",\"r\").read()"
   ]
  },
  {
   "cell_type": "code",
   "execution_count": 2,
   "id": "9fcc7924-93d8-4943-89f0-9ed90b2c001b",
   "metadata": {
    "execution": {
     "iopub.execute_input": "2025-04-10T08:14:54.936585Z",
     "iopub.status.busy": "2025-04-10T08:14:54.936585Z",
     "iopub.status.idle": "2025-04-10T08:14:54.940154Z",
     "shell.execute_reply": "2025-04-10T08:14:54.940154Z"
    }
   },
   "outputs": [],
   "source": [
    "import re\n",
    "pattern = r'\\b(0\\.[1-6]|[1-9]\\.[0-6]|1[0-9]\\.[1-6])\\b'\n",
    "\n",
    "# Splitting the text based on the ball number\n",
    "documents = []\n",
    "for r in re.split(pattern, text):\n",
    "    documents.append(r.strip())\n"
   ]
  },
  {
   "cell_type": "code",
   "execution_count": 3,
   "id": "cbe823e9-f0ca-42d3-8400-8e7291475b31",
   "metadata": {
    "execution": {
     "iopub.execute_input": "2025-04-10T08:14:54.942160Z",
     "iopub.status.busy": "2025-04-10T08:14:54.942160Z",
     "iopub.status.idle": "2025-04-10T08:14:54.947671Z",
     "shell.execute_reply": "2025-04-10T08:14:54.947671Z"
    }
   },
   "outputs": [
    {
     "data": {
      "text/plain": [
       "['',\n",
       " '0.1',\n",
       " 'Marco Jansen to Rohit, one run, full and shaping into off-stimp, Rohit prods forward and knocks it just wide off mid-on, they scamp her across for one.',\n",
       " '0.2',\n",
       " 'Marco Jansen to Kohli, four beautiful. Pitched up full and slanting across outside off, Kohli pressed forward and opened the face of the back to creme the drive through point, sublime timing and placement.',\n",
       " '0.3',\n",
       " \"Marco Jansen to Kohli, four, you could never tell he's been short of runs. Pitched up full and straight this time, wrong line and length, to easy for Kohli who wits it away through squared leg with his signature flick, it races away to the ropes.\",\n",
       " '0.4',\n",
       " 'Marco Jansen to Kohli, two runs, full and slanting across outside off, Kohli presses forward and drives it towards extra cover, was just a knock so they get to.',\n",
       " '0.5',\n",
       " 'Marco Jansen to Kohli, no run, good length delivery slanting across outside off, Kohli has a close look at it before letting it go, great carry through to the cock, he took that at about head height.',\n",
       " '0.6',\n",
       " 'Marco Jansen to Kohli, four, more runs for Kohli.']"
      ]
     },
     "execution_count": 3,
     "metadata": {},
     "output_type": "execute_result"
    }
   ],
   "source": [
    "documents"
   ]
  },
  {
   "cell_type": "code",
   "execution_count": 4,
   "id": "4dc571e6-b2b3-433b-a2d8-3cdcd4b64042",
   "metadata": {
    "execution": {
     "iopub.execute_input": "2025-04-10T08:14:54.949677Z",
     "iopub.status.busy": "2025-04-10T08:14:54.949677Z",
     "iopub.status.idle": "2025-04-10T08:14:54.953422Z",
     "shell.execute_reply": "2025-04-10T08:14:54.953422Z"
    }
   },
   "outputs": [
    {
     "data": {
      "text/plain": [
       "['0.1', '0.2', '0.3', '0.4', '0.5', '0.6']"
      ]
     },
     "execution_count": 4,
     "metadata": {},
     "output_type": "execute_result"
    }
   ],
   "source": [
    "import re \n",
    "pat = r'\\b(0\\.[1-6]|[1-9]\\.[0-6]|1[0-9]\\.[1-6])\\b'\n",
    "# Find all ball numbers in the text\n",
    "ball = re.findall(pat, text)\n",
    "ball"
   ]
  },
  {
   "cell_type": "code",
   "execution_count": 5,
   "id": "a49df703-b2d3-4319-b383-751e69eff325",
   "metadata": {
    "execution": {
     "iopub.execute_input": "2025-04-10T08:14:54.955432Z",
     "iopub.status.busy": "2025-04-10T08:14:54.955432Z",
     "iopub.status.idle": "2025-04-10T08:14:54.958462Z",
     "shell.execute_reply": "2025-04-10T08:14:54.958462Z"
    }
   },
   "outputs": [
    {
     "data": {
      "text/plain": [
       "6"
      ]
     },
     "execution_count": 5,
     "metadata": {},
     "output_type": "execute_result"
    }
   ],
   "source": [
    "len(ball)"
   ]
  },
  {
   "cell_type": "code",
   "execution_count": 6,
   "id": "cd8daebc-43b2-4cb5-b1ab-d06a5c67f0bc",
   "metadata": {
    "execution": {
     "iopub.execute_input": "2025-04-10T08:14:54.960475Z",
     "iopub.status.busy": "2025-04-10T08:14:54.960475Z",
     "iopub.status.idle": "2025-04-10T08:14:54.963293Z",
     "shell.execute_reply": "2025-04-10T08:14:54.963293Z"
    }
   },
   "outputs": [
    {
     "data": {
      "text/plain": [
       "13"
      ]
     },
     "execution_count": 6,
     "metadata": {},
     "output_type": "execute_result"
    }
   ],
   "source": [
    "l = len(documents)\n",
    "l"
   ]
  },
  {
   "cell_type": "code",
   "execution_count": 7,
   "id": "ca744ef8-b839-4cc7-97a5-41d2198762b3",
   "metadata": {
    "execution": {
     "iopub.execute_input": "2025-04-10T08:14:54.965298Z",
     "iopub.status.busy": "2025-04-10T08:14:54.965298Z",
     "iopub.status.idle": "2025-04-10T08:14:54.969218Z",
     "shell.execute_reply": "2025-04-10T08:14:54.969218Z"
    }
   },
   "outputs": [
    {
     "data": {
      "text/plain": [
       "['0.1,Marco Jansen to Rohit, one run, full and shaping into off-stimp, Rohit prods forward and knocks it just wide off mid-on, they scamp her across for one.',\n",
       " '0.2,Marco Jansen to Kohli, four beautiful. Pitched up full and slanting across outside off, Kohli pressed forward and opened the face of the back to creme the drive through point, sublime timing and placement.',\n",
       " \"0.3,Marco Jansen to Kohli, four, you could never tell he's been short of runs. Pitched up full and straight this time, wrong line and length, to easy for Kohli who wits it away through squared leg with his signature flick, it races away to the ropes.\",\n",
       " '0.4,Marco Jansen to Kohli, two runs, full and slanting across outside off, Kohli presses forward and drives it towards extra cover, was just a knock so they get to.',\n",
       " '0.5,Marco Jansen to Kohli, no run, good length delivery slanting across outside off, Kohli has a close look at it before letting it go, great carry through to the cock, he took that at about head height.',\n",
       " '0.6,Marco Jansen to Kohli, four, more runs for Kohli.']"
      ]
     },
     "execution_count": 7,
     "metadata": {},
     "output_type": "execute_result"
    }
   ],
   "source": [
    "sent =[]\n",
    "ball_no = []\n",
    "for i in range(l):\n",
    "    if documents[i] in ball:\n",
    "        sentence = documents[i] + ',' + documents[i+1]\n",
    "        sent.append(sentence)\n",
    "sent\n",
    "\n",
    "# for i in range(len(documents)):\n",
    "#     if documents[i][:3] in ball:  # Check if the first 3 characters are the ball number\n",
    "#         sentence = documents[i][:3] + ',' + documents[i][3:]  # Split ball number and the rest of the sentence\n",
    "#         sent.append(sentence)  # Append to the list\n",
    "\n",
    "# sent\n"
   ]
  },
  {
   "cell_type": "code",
   "execution_count": 8,
   "id": "d9308375-3b7a-468f-838a-a6bed224cbb7",
   "metadata": {
    "execution": {
     "iopub.execute_input": "2025-04-10T08:14:54.971397Z",
     "iopub.status.busy": "2025-04-10T08:14:54.971397Z",
     "iopub.status.idle": "2025-04-10T08:14:54.973327Z",
     "shell.execute_reply": "2025-04-10T08:14:54.973327Z"
    }
   },
   "outputs": [],
   "source": [
    "# sent.reverse()"
   ]
  },
  {
   "cell_type": "code",
   "execution_count": 9,
   "id": "b991052f-cf7e-4b39-9e86-58ffd9d0f875",
   "metadata": {
    "execution": {
     "iopub.execute_input": "2025-04-10T08:14:54.975338Z",
     "iopub.status.busy": "2025-04-10T08:14:54.975338Z",
     "iopub.status.idle": "2025-04-10T08:14:54.978400Z",
     "shell.execute_reply": "2025-04-10T08:14:54.978400Z"
    }
   },
   "outputs": [
    {
     "data": {
      "text/plain": [
       "'0.1,Marco Jansen to Rohit, one run, full and shaping into off-stimp, Rohit prods forward and knocks it just wide off mid-on, they scamp her across for one.'"
      ]
     },
     "execution_count": 9,
     "metadata": {},
     "output_type": "execute_result"
    }
   ],
   "source": [
    "sent[0]"
   ]
  },
  {
   "cell_type": "code",
   "execution_count": 10,
   "id": "f7a090b6-07f0-44b3-bccb-c8f662007c0a",
   "metadata": {
    "execution": {
     "iopub.execute_input": "2025-04-10T08:14:54.980752Z",
     "iopub.status.busy": "2025-04-10T08:14:54.979406Z",
     "iopub.status.idle": "2025-04-10T08:14:54.983655Z",
     "shell.execute_reply": "2025-04-10T08:14:54.983655Z"
    }
   },
   "outputs": [
    {
     "data": {
      "text/plain": [
       "6"
      ]
     },
     "execution_count": 10,
     "metadata": {},
     "output_type": "execute_result"
    }
   ],
   "source": [
    "x=len(sent)\n",
    "x"
   ]
  },
  {
   "cell_type": "code",
   "execution_count": 11,
   "id": "75079098-c155-4252-a503-4f016dcf0b0a",
   "metadata": {
    "execution": {
     "iopub.execute_input": "2025-04-10T08:14:54.985926Z",
     "iopub.status.busy": "2025-04-10T08:14:54.984838Z",
     "iopub.status.idle": "2025-04-10T08:14:54.990921Z",
     "shell.execute_reply": "2025-04-10T08:14:54.990921Z"
    }
   },
   "outputs": [
    {
     "name": "stdout",
     "output_type": "stream",
     "text": [
      "6\n"
     ]
    },
    {
     "data": {
      "text/plain": [
       "['0.1',\n",
       " 'Marco Jansen to Rohit',\n",
       " ' one run',\n",
       " ' full and shaping into off-stimp',\n",
       " ' Rohit prods forward and knocks it just wide off mid-on',\n",
       " ' they scamp her across for one.']"
      ]
     },
     "execution_count": 11,
     "metadata": {},
     "output_type": "execute_result"
    }
   ],
   "source": [
    "line = []\n",
    "for i in range(x):\n",
    "    line.append(sent[i].split(','))\n",
    "lx = len(line)\n",
    "print(lx)\n",
    "line[0]"
   ]
  },
  {
   "cell_type": "code",
   "execution_count": 12,
   "id": "41940d62-6da2-4bff-afd0-bfc72acd1579",
   "metadata": {
    "execution": {
     "iopub.execute_input": "2025-04-10T08:14:54.993304Z",
     "iopub.status.busy": "2025-04-10T08:14:54.992016Z",
     "iopub.status.idle": "2025-04-10T08:14:54.995773Z",
     "shell.execute_reply": "2025-04-10T08:14:54.995773Z"
    }
   },
   "outputs": [],
   "source": [
    "batsman = []\n",
    "ballers = []\n",
    "for i in range(lx):\n",
    "    players = line[i][1].split('to')\n",
    "    batsman.append(players[1])\n",
    "    ballers.append(players[0])\n"
   ]
  },
  {
   "cell_type": "code",
   "execution_count": 13,
   "id": "28d39785",
   "metadata": {
    "execution": {
     "iopub.execute_input": "2025-04-10T08:14:54.998053Z",
     "iopub.status.busy": "2025-04-10T08:14:54.997044Z",
     "iopub.status.idle": "2025-04-10T08:14:55.000124Z",
     "shell.execute_reply": "2025-04-10T08:14:55.000124Z"
    }
   },
   "outputs": [],
   "source": [
    "# batsman = []\n",
    "# ballers = []\n",
    "# text = line[i][1]\n",
    "# for i in range(lx):\n",
    "#     if \"to\" in text or \"2\" in text:\n",
    "#         players = text.split(\"to\")\n",
    "#         batsman.append(players[1])\n",
    "#         ballers.append(players[0])"
   ]
  },
  {
   "cell_type": "code",
   "execution_count": 14,
   "id": "323c3338-42fc-4976-a822-796f1311e13b",
   "metadata": {
    "execution": {
     "iopub.execute_input": "2025-04-10T08:14:55.002133Z",
     "iopub.status.busy": "2025-04-10T08:14:55.002133Z",
     "iopub.status.idle": "2025-04-10T08:14:55.006075Z",
     "shell.execute_reply": "2025-04-10T08:14:55.005570Z"
    }
   },
   "outputs": [
    {
     "data": {
      "text/plain": [
       "[' Rohit', ' Kohli']"
      ]
     },
     "execution_count": 14,
     "metadata": {},
     "output_type": "execute_result"
    }
   ],
   "source": [
    "batsman = list(dict.fromkeys(batsman))\n",
    "ballers = list(dict.fromkeys(ballers))\n",
    "batsman\n",
    "# ballers"
   ]
  },
  {
   "cell_type": "code",
   "execution_count": 15,
   "id": "6cde4d46-9bdf-4ca1-97b3-8201f4a03a3f",
   "metadata": {
    "execution": {
     "iopub.execute_input": "2025-04-10T08:14:55.007083Z",
     "iopub.status.busy": "2025-04-10T08:14:55.007083Z",
     "iopub.status.idle": "2025-04-10T08:14:55.856212Z",
     "shell.execute_reply": "2025-04-10T08:14:55.856212Z"
    }
   },
   "outputs": [],
   "source": [
    "import pandas as pd"
   ]
  },
  {
   "cell_type": "code",
   "execution_count": 16,
   "id": "de7dd9dd-df16-4b42-9225-6b839bc85825",
   "metadata": {
    "execution": {
     "iopub.execute_input": "2025-04-10T08:14:55.858383Z",
     "iopub.status.busy": "2025-04-10T08:14:55.858383Z",
     "iopub.status.idle": "2025-04-10T08:14:55.861867Z",
     "shell.execute_reply": "2025-04-10T08:14:55.861867Z"
    }
   },
   "outputs": [],
   "source": [
    "# myBatsman = pd.DataFrame(0, batsman, ['status', 'R', 'B', '4s', '6s','SR'])\n",
    "# myBatsman['status'] = 'not out'\n",
    "# myBatsman"
   ]
  },
  {
   "cell_type": "code",
   "execution_count": 17,
   "id": "ff1e387a-097f-4ee7-af7a-fed0c1838bdd",
   "metadata": {
    "execution": {
     "iopub.execute_input": "2025-04-10T08:14:55.864655Z",
     "iopub.status.busy": "2025-04-10T08:14:55.863647Z",
     "iopub.status.idle": "2025-04-10T08:14:55.866438Z",
     "shell.execute_reply": "2025-04-10T08:14:55.866438Z"
    }
   },
   "outputs": [],
   "source": [
    "# myBowlers = pd.DataFrame(0,bowlers,['O','M','R','W','NB','WD','EC','B'])\n",
    "# myBowlers"
   ]
  },
  {
   "cell_type": "code",
   "execution_count": 18,
   "id": "c8c8a55b-a283-4ce8-9847-178cd1512ec4",
   "metadata": {
    "execution": {
     "iopub.execute_input": "2025-04-10T08:14:55.868443Z",
     "iopub.status.busy": "2025-04-10T08:14:55.868443Z",
     "iopub.status.idle": "2025-04-10T08:14:55.884954Z",
     "shell.execute_reply": "2025-04-10T08:14:55.884954Z"
    }
   },
   "outputs": [
    {
     "data": {
      "text/html": [
       "<div>\n",
       "<style scoped>\n",
       "    .dataframe tbody tr th:only-of-type {\n",
       "        vertical-align: middle;\n",
       "    }\n",
       "\n",
       "    .dataframe tbody tr th {\n",
       "        vertical-align: top;\n",
       "    }\n",
       "\n",
       "    .dataframe thead th {\n",
       "        text-align: right;\n",
       "    }\n",
       "</style>\n",
       "<table border=\"1\" class=\"dataframe\">\n",
       "  <thead>\n",
       "    <tr style=\"text-align: right;\">\n",
       "      <th></th>\n",
       "      <th>status</th>\n",
       "      <th>R</th>\n",
       "      <th>B</th>\n",
       "      <th>4s</th>\n",
       "      <th>6s</th>\n",
       "      <th>SR</th>\n",
       "    </tr>\n",
       "  </thead>\n",
       "  <tbody>\n",
       "    <tr>\n",
       "      <th>Rohit</th>\n",
       "      <td>not out</td>\n",
       "      <td>0</td>\n",
       "      <td>0</td>\n",
       "      <td>0</td>\n",
       "      <td>0</td>\n",
       "      <td>0</td>\n",
       "    </tr>\n",
       "    <tr>\n",
       "      <th>Kohli</th>\n",
       "      <td>not out</td>\n",
       "      <td>0</td>\n",
       "      <td>0</td>\n",
       "      <td>0</td>\n",
       "      <td>0</td>\n",
       "      <td>0</td>\n",
       "    </tr>\n",
       "  </tbody>\n",
       "</table>\n",
       "</div>"
      ],
      "text/plain": [
       "        status  R  B  4s  6s  SR\n",
       "Rohit  not out  0  0   0   0   0\n",
       "Kohli  not out  0  0   0   0   0"
      ]
     },
     "execution_count": 18,
     "metadata": {},
     "output_type": "execute_result"
    }
   ],
   "source": [
    "myBatsman = pd.DataFrame(0, batsman, ['status', 'R', 'B', '4s', '6s','SR'])\n",
    "myBatsman['status'] = 'not out'\n",
    "myBatsman"
   ]
  },
  {
   "cell_type": "code",
   "execution_count": 19,
   "id": "ad6a364a-b40f-4906-8230-f89a9fcbe284",
   "metadata": {
    "execution": {
     "iopub.execute_input": "2025-04-10T08:14:55.886961Z",
     "iopub.status.busy": "2025-04-10T08:14:55.886961Z",
     "iopub.status.idle": "2025-04-10T08:14:55.892873Z",
     "shell.execute_reply": "2025-04-10T08:14:55.892873Z"
    }
   },
   "outputs": [
    {
     "data": {
      "text/html": [
       "<div>\n",
       "<style scoped>\n",
       "    .dataframe tbody tr th:only-of-type {\n",
       "        vertical-align: middle;\n",
       "    }\n",
       "\n",
       "    .dataframe tbody tr th {\n",
       "        vertical-align: top;\n",
       "    }\n",
       "\n",
       "    .dataframe thead th {\n",
       "        text-align: right;\n",
       "    }\n",
       "</style>\n",
       "<table border=\"1\" class=\"dataframe\">\n",
       "  <thead>\n",
       "    <tr style=\"text-align: right;\">\n",
       "      <th></th>\n",
       "      <th>O</th>\n",
       "      <th>M</th>\n",
       "      <th>R</th>\n",
       "      <th>W</th>\n",
       "      <th>NB</th>\n",
       "      <th>WD</th>\n",
       "      <th>EC</th>\n",
       "      <th>B</th>\n",
       "    </tr>\n",
       "  </thead>\n",
       "  <tbody>\n",
       "    <tr>\n",
       "      <th>Marco Jansen</th>\n",
       "      <td>0</td>\n",
       "      <td>0</td>\n",
       "      <td>0</td>\n",
       "      <td>0</td>\n",
       "      <td>0</td>\n",
       "      <td>0</td>\n",
       "      <td>0</td>\n",
       "      <td>0</td>\n",
       "    </tr>\n",
       "  </tbody>\n",
       "</table>\n",
       "</div>"
      ],
      "text/plain": [
       "               O  M  R  W  NB  WD  EC  B\n",
       "Marco Jansen   0  0  0  0   0   0   0  0"
      ]
     },
     "execution_count": 19,
     "metadata": {},
     "output_type": "execute_result"
    }
   ],
   "source": [
    "myBallers = pd.DataFrame(0,ballers,['O','M','R','W','NB','WD','EC','B'])\n",
    "myBallers"
   ]
  },
  {
   "cell_type": "code",
   "execution_count": 20,
   "id": "2c8ee5c2-be5c-40a1-bf00-57f246a06a67",
   "metadata": {
    "execution": {
     "iopub.execute_input": "2025-04-10T08:14:55.894879Z",
     "iopub.status.busy": "2025-04-10T08:14:55.894879Z",
     "iopub.status.idle": "2025-04-10T08:14:55.903250Z",
     "shell.execute_reply": "2025-04-10T08:14:55.902745Z"
    }
   },
   "outputs": [],
   "source": [
    "# extra = 0\n",
    "# wide = 0\n",
    "# score = 0\n",
    "# wickets = 0\n",
    "# noBall = 0\n",
    "# b = 0\n",
    "# lb = 0\n",
    "# fall = []\n",
    "\n",
    "# for i in range(lx):\n",
    "#     ball_no = line[i][0]\n",
    "#     players = line[i][1].split('to')\n",
    "#     batsmanName = players[1]\n",
    "#     ballerName = players[0]\n",
    "\n",
    "#     # print(ball_no)\n",
    "#     # print(ballerName)\n",
    "#     # print(batsmanName)\n",
    "\n",
    "#     line[i][2] = line[i][2].lower()\n",
    "#     # print(len(line[i][3]))\n",
    "#     # If ball is wide\n",
    "#     if line[i][2] == ' wide':\n",
    "#         wide += 1\n",
    "#         score += 1\n",
    "#         myBallers.loc[ballerName, 'R'] = myBallers.loc[ballerName, 'R'] + 1\n",
    "#         myBallers.loc[ballerName, 'WD'] = myBallers.loc[ballerName, 'WD'] + 1\n",
    "\n",
    "    \n",
    "\n",
    "    \n",
    "#     # If ball is no ball\n",
    "#     elif line[i][2] == ' no ball':\n",
    "#         noBall += 1\n",
    "#         score += 1\n",
    "#         myBallers.loc[ballerName, 'R'] = myBallers.loc[ballerName, 'R'] + 1\n",
    "#         myBallers.loc[ballerName, 'NB'] = myBallers.loc[ballerName, 'NB'] + 1\n",
    "\n",
    "#     # If ball is legal and 4 runs\n",
    "#     elif line[i][2] == ' four' or line[i][2] == ' 4' or line[i][2] == ' 4 runs' or line[i][2] == ' FOUR':\n",
    "#         myBatsman.loc[batsmanName, '4s'] = myBatsman.loc[batsmanName, '4s'] + 1\n",
    "#         myBatsman.loc[batsmanName, 'R'] = myBatsman.loc[batsmanName, 'R'] + 4\n",
    "#         myBatsman.loc[batsmanName, 'B'] = myBatsman.loc[batsmanName, 'B'] + 1\n",
    "#         myBallers.loc[ballerName, 'B'] = myBallers.loc[ballerName, 'B'] + 1\n",
    "#         myBallers.loc[ballerName, 'R'] = myBallers.loc[ballerName, 'R'] + 4\n",
    "#         score += 4\n",
    "\n",
    "#     # If ball is legal and 6 runs\n",
    "#     elif line[i][2] == ' six' or line[i][2] == ' 6' or line[i][2] == ' 6 runs' or line[i][2] == ' SIX':\n",
    "#         myBatsman.loc[batsmanName, '6s'] = myBatsman.loc[batsmanName, '6s'] + 1\n",
    "#         myBatsman.loc[batsmanName, 'R'] = myBatsman.loc[batsmanName, 'R'] + 6\n",
    "#         myBatsman.loc[batsmanName, 'B'] = myBatsman.loc[batsmanName, 'B'] + 1\n",
    "#         myBallers.loc[ballerName, 'B'] = myBallers.loc[ballerName, 'B'] + 1\n",
    "#         myBallers.loc[ballerName, 'R'] = myBallers.loc[ballerName, 'R'] + 6\n",
    "#         score += 6\n",
    "\n",
    "#     # If ball is legal and 1 run\n",
    "#     elif line[i][2] == ' 1 run' or line[i][2] == ' 1' or line[i][2] == ' one run' or line[i][2] == ' one-run':\n",
    "#         myBatsman.loc[batsmanName, 'R'] = myBatsman.loc[batsmanName, 'R'] + 1\n",
    "#         myBatsman.loc[batsmanName, 'B'] = myBatsman.loc[batsmanName, 'B'] + 1\n",
    "#         myBallers.loc[ballerName, 'B'] = myBallers.loc[ballerName, 'B'] + 1\n",
    "#         myBallers.loc[ballerName, 'R'] = myBallers.loc[ballerName, 'R'] + 1\n",
    "#         score += 1\n",
    "\n",
    "#     # If ball is legal and 2 runs\n",
    "#     elif line[i][2] == ' 2 runs' or line[i][2] == ' 2' or line[i][2] == ' 2':\n",
    "#         myBatsman.loc[batsmanName, 'R'] = myBatsman.loc[batsmanName, 'R'] + 2\n",
    "#         myBatsman.loc[batsmanName, 'B'] = myBatsman.loc[batsmanName, 'B'] + 1\n",
    "#         myBallers.loc[ballerName, 'B'] = myBallers.loc[ballerName, 'B'] + 1\n",
    "#         myBallers.loc[ballerName, 'R'] = myBallers.loc[ballerName, 'R'] + 2\n",
    "#         score += 2\n",
    "\n",
    "#     # If ball is legal and 3 runs\n",
    "#     elif line[i][2] == ' 3 runs' or line[i][2] == ' 3' or line[i][2] == ' 3':\n",
    "#         myBatsman.loc[batsmanName, 'R'] = myBatsman.loc[batsmanName, 'R'] + 3\n",
    "#         myBatsman.loc[batsmanName, 'B'] = myBatsman.loc[batsmanName, 'B'] + 1\n",
    "#         myBallers.loc[ballerName, 'B'] = myBallers.loc[ballerName, 'B'] + 1\n",
    "#         myBallers.loc[ballerName, 'R'] = myBallers.loc[ballerName, 'R'] + 3\n",
    "#         score += 3\n",
    "\n",
    "#     # If ball is legal and 5 runs\n",
    "#     elif line[i][2] == ' 5 runs' or line[i][2] == ' 5' or line[i][2] == ' 5':\n",
    "#         myBatsman.loc[batsmanName, 'B'] = myBatsman.loc[batsmanName, 'B'] + 1\n",
    "#         myBallers.loc[ballerName, 'B'] = myBallers.loc[ballerName, 'B'] + 1\n",
    "#         myBallers.loc[ballerName, 'R'] = myBallers.loc[ballerName, 'R'] + 5\n",
    "#         score += 5\n",
    "\n",
    "#     # If ball is no run\n",
    "#     elif line[i][2] == ' no run' or line[i][2] == ' no' or line[i][2] == ' no-run':\n",
    "#         myBatsman.loc[batsmanName, 'B'] = myBatsman.loc[batsmanName, 'B'] + 1\n",
    "#         myBallers.loc[ballerName, 'B'] = myBallers.loc[ballerName, 'B'] + 1\n",
    "\n",
    "#     # # If ball is leg byes\n",
    "#     # elif line[i][2] == ' leg byes' or line[i][2] == ' leg bye' or line[i][2] == ' lb':\n",
    "#     #     myBatsman.loc[batsmanName, 'B'] = myBatsman.loc[batsmanName, 'B'] + 1\n",
    "#     #     myBallers.loc[ballerName, 'B'] = myBallers.loc[ballerName, 'B'] + 1\n",
    "#     #     if line[i][3] == ' four' or line[i][3] == ' 4' or line[i][3] == ' 4 runs':\n",
    "#     #         lb += 4\n",
    "#     #         myBallers.loc[ballerName, 'R'] = myBallers.loc[ballerName, 'R'] + 4\n",
    "#     #         score += 4\n",
    "#     #     if line[i][3] == ' six' or line[i][3] == ' 6' or line[i][3] == ' 6 runs':\n",
    "#     #         lb += 6\n",
    "#     #         myBallers.loc[ballerName, 'R'] = myBallers.loc[ballerName, 'R'] + 6\n",
    "#     #         score += 6\n",
    "#     #     if line[i][3] == ' 1 run' or line[i][3] == ' 1':\n",
    "#     #         lb += 1\n",
    "#     #         myBallers.loc[ballerName, 'R'] = myBallers.loc[ballerName, 'R'] + 1\n",
    "#     #         score += 1\n",
    "#     #     if line[i][3] == ' 2 run' or line[i][3] == ' 2 run' or line[i][3] == '  2':\n",
    "#     #         lb += 2\n",
    "#     #         myBallers.loc[ballerName, 'R'] = myBallers.loc[ballerName, 'R'] + 2\n",
    "#     #         score += 2\n",
    "#     #     if line[i][3] == ' 3 run' or line[i][3] == ' 3 run' or line[i][3] == '  3':\n",
    "#     #         lb += 3\n",
    "#     #         myBallers.loc[ballerName, 'R'] = myBallers.loc[ballerName, 'R'] + 3\n",
    "#     #         score += 3\n",
    "#     #     if line[i][3] == ' 5 run' or line[i][3] == ' 5 run' or line[i][3] == '  5':\n",
    "#     #         lb += 5\n",
    "#     #         myBallers.loc[ballerName, 'R'] = myBallers.loc[ballerName, 'R'] + 5\n",
    "#     #         score += 5\n",
    "\n",
    "#     elif line[i][2] == ' leg byes' or line[i][2] == ' leg bye' or line[i][2] == ' lb' or line[i][2] == ' byes':\n",
    "#         myBatsman.loc[batsmanName, 'B'] = myBatsman.loc[batsmanName, 'B'] + 1\n",
    "#         myBallers.loc[ballerName, 'B'] = myBallers.loc[ballerName, 'B'] + 1\n",
    "#         if line[i][3] == ' four' or line[i][3] == ' 4' or line[i][3] == ' 4 runs' or line[i][2] == ' FOUR':\n",
    "#             lb += 4\n",
    "#             myBallers.loc[ballerName, 'R'] = myBallers.loc[ballerName, 'R'] + 4\n",
    "#             score += 4\n",
    "#         if line[i][3] == ' six' or line[i][3] == ' 6' or line[i][3] == ' 6 runs' or line[i][2] == ' SIX':\n",
    "#             lb += 6\n",
    "#             myBallers.loc[ballerName, 'R'] = myBallers.loc[ballerName, 'R'] + 6\n",
    "#             score += 6\n",
    "#         if line[i][3] == ' 1 run' or line[i][3] == ' 1' or line[i][3] == ' one run':\n",
    "#             lb += 1\n",
    "#             myBallers.loc[ballerName, 'R'] = myBallers.loc[ballerName, 'R'] + 1\n",
    "#             score += 1\n",
    "#         if line[i][3] == ' 2 run' or line[i][3] == ' 2 run' or line[i][3] == '  2':\n",
    "#             lb += 2\n",
    "#             myBallers.loc[ballerName, 'R'] = myBallers.loc[ballerName, 'R'] + 2\n",
    "#             score += 2\n",
    "#         if line[i][3] == ' 3 run' or line[i][3] == ' 3 run' or line[i][3] == '  3':\n",
    "#             lb += 3\n",
    "#             myBallers.loc[ballerName, 'R'] = myBallers.loc[ballerName, 'R'] + 3\n",
    "#             score += 3\n",
    "#         if line[i][3] == ' 5 run' or line[i][3] == ' 5 run' or line[i][3] == '  5':\n",
    "#             lb += 5\n",
    "#             myBallers.loc[ballerName, 'R'] = myBallers.loc[ballerName, 'R'] + 5\n",
    "#             score += 5\n",
    "\n",
    "#     # If ball is byes\n",
    "#     elif line[i][2] == ' byes' or line[i][2] == ' bye':\n",
    "#         myBatsman.loc[batsmanName, 'B'] = myBatsman.loc[batsmanName, 'B'] + 1\n",
    "#         myBallers.loc[ballerName,'R'] = myBallers.loc[ballerName,'R'] + 1\n",
    "#         if line[i][3] == ' four' or line[i][3] == ' 4' or line[i][3] == ' 4 runs':\n",
    "#             b += 4\n",
    "#             myBallers.loc[ballerName,'R'] = myBallers.loc[ballerName,'R'] + 4\n",
    "#             score += 4\n",
    "#         if line[i][3] == ' six' or line[i][3] == ' 6' or line[i][3] == ' 6 runs':\n",
    "#             b += 6\n",
    "#             myBallers.loc[ballerName,'R'] = myBallers.loc[ballerName,'R'] + 6\n",
    "#             score += 6\n",
    "#         if line[i][3] == ' 1 run' or line[i][3] == ' 1' or line[i][3] == ' one run':\n",
    "#             b += 1\n",
    "#             myBallers.loc[ballerName, 'R'] = myBallers.loc[ballerName, 'R'] + 1\n",
    "#             score += 1\n",
    "#         if line[i][3] == ' 2 run' or line[i][3] == ' 2 run' or line[i][3] == '  2' :\n",
    "#             b += 2\n",
    "#             myBallers.loc[ballerName, 'R'] = myBallers.loc[ballerName, 'R'] + 2\n",
    "#             score += 2\n",
    "#         if line[i][3] == ' 3 run' or line[i][3] == ' 3 run' or line[i][3] == '  3':\n",
    "#             b += 3\n",
    "#             myBallers.loc[ballerName,'R'] = myBallers.loc[ballerName,'R'] + 3\n",
    "#             score += 3\n",
    "#         if line[i][3] == ' 5 run' or line[i][3] == ' 5 run' or line[i][3] == '  5':\n",
    "#             b += 5\n",
    "#             myBallers.loc[ballerName, 'R'] = myBallers.loc[ballerName, 'R'] + 5\n",
    "#             score += 5\n",
    "\n",
    "\n",
    "#     elif len(line[i][2]) > 0:\n",
    "#             sentence = line[i][2]\n",
    "#             s = sentence.split(\" \")\n",
    "\n",
    "\n",
    "    \n",
    "#             # Iterate through the words in the sentence\n",
    "#             for word in s[:2]:\n",
    "#                 word = word.lower().strip()  # Ensure all words are lowercase and stripped of whitespace\n",
    "#                 # print(word)\n",
    "#                 # Check if ball is wide\n",
    "#                 if word == 'wide':\n",
    "#                     wide += 1\n",
    "#                     score += 1\n",
    "#                     myBallers.loc[ballerName, 'R'] += 1\n",
    "#                     myBallers.loc[ballerName, 'WD'] += 1\n",
    "\n",
    "#                 # Check if ball is no ball\n",
    "#                 elif word == 'no' and 'ball' in s:\n",
    "#                     noBall += 1\n",
    "#                     score += 1\n",
    "#                     myBallers.loc[ballerName, 'R'] += 1\n",
    "#                     myBallers.loc[ballerName, 'NB'] += 1\n",
    "\n",
    "#                 # Check if it's a four\n",
    "#                 elif word in ['four', '4', '4 runs', '4th']:\n",
    "#                     myBatsman.loc[batsmanName, '4s'] += 1\n",
    "#                     myBatsman.loc[batsmanName, 'R'] += 4\n",
    "#                     myBatsman.loc[batsmanName, 'B'] += 1\n",
    "#                     myBallers.loc[ballerName, 'B'] += 1\n",
    "#                     myBallers.loc[ballerName, 'R'] += 4\n",
    "#                     score += 4\n",
    "\n",
    "#                 # Check if it's a six\n",
    "#                 elif word in ['six', '6', '6 runs', '6th']:\n",
    "#                     myBatsman.loc[batsmanName, '6s'] += 1\n",
    "#                     myBatsman.loc[batsmanName, 'R'] += 6\n",
    "#                     myBatsman.loc[batsmanName, 'B'] += 1\n",
    "#                     myBallers.loc[ballerName, 'B'] += 1\n",
    "#                     myBallers.loc[ballerName, 'R'] += 6\n",
    "#                     score += 6\n",
    "\n",
    "#                 # Check for 1 run\n",
    "#                 elif word in ['1', '1 run', 'one', 'one-run']:\n",
    "#                     myBatsman.loc[batsmanName, 'R'] += 1\n",
    "#                     myBatsman.loc[batsmanName, 'B'] += 1\n",
    "#                     myBallers.loc[ballerName, 'B'] += 1\n",
    "#                     myBallers.loc[ballerName, 'R'] += 1\n",
    "#                     score += 1\n",
    "\n",
    "#                 # Check for 2 runs\n",
    "#                 elif word in ['2', '2 runs', 'two']:\n",
    "#                     myBatsman.loc[batsmanName, 'R'] += 2\n",
    "#                     myBatsman.loc[batsmanName, 'B'] += 1\n",
    "#                     myBallers.loc[ballerName, 'B'] += 1\n",
    "#                     myBallers.loc[ballerName, 'R'] += 2\n",
    "#                     score += 2\n",
    "\n",
    "#         # Check for 3 runs\n",
    "#                 elif word in ['3', '3 runs', 'three']:\n",
    "#                     myBatsman.loc[batsmanName, 'R'] += 3\n",
    "#                     myBatsman.loc[batsmanName, 'B'] += 1\n",
    "#                     myBallers.loc[ballerName, 'B'] += 1\n",
    "#                     myBallers.loc[ballerName, 'R'] += 3\n",
    "#                     score += 3\n",
    "\n",
    "#                 # Check for 5 runs\n",
    "#                 elif word in ['5', '5 runs', 'five']:\n",
    "#                     myBatsman.loc[batsmanName, 'B'] += 1\n",
    "#                     myBallers.loc[ballerName, 'B'] += 1\n",
    "#                     myBallers.loc[ballerName, 'R'] += 5\n",
    "#                     score += 5\n",
    "\n",
    "#         # Check for no run\n",
    "#                 elif word in ['no run', 'no', 'no-run']:\n",
    "#                     myBatsman.loc[batsmanName, 'B'] += 1\n",
    "#                     myBallers.loc[ballerName, 'B'] += 1\n",
    "\n",
    "#         # Check for leg byes\n",
    "#                 elif word in ['leg byes', 'leg bye', 'lb', 'byes']:\n",
    "#                     myBatsman.loc[batsmanName, 'B'] += 1\n",
    "#                     myBallers.loc[ballerName, 'B'] += 1\n",
    "#                     if 'four' in s:\n",
    "#                         lb += 4\n",
    "#                         myBallers.loc[ballerName, 'R'] += 4\n",
    "#                         score += 4\n",
    "#                     elif 'six' in s:\n",
    "#                         lb += 6\n",
    "#                         myBallers.loc[ballerName, 'R'] += 6\n",
    "#                         score += 6\n",
    "#                     elif '1 run' in s:\n",
    "#                         lb += 1\n",
    "#                         myBallers.loc[ballerName, 'R'] += 1\n",
    "#                         score += 1\n",
    "#                     elif '2 runs' in s:\n",
    "#                         lb += 2\n",
    "#                         myBallers.loc[ballerName, 'R'] += 2\n",
    "#                         score += 2\n",
    "#                     elif '3 runs' in s:\n",
    "#                         lb += 3\n",
    "#                         myBallers.loc[ballerName, 'R'] += 3\n",
    "#                         score += 3\n",
    "#                     elif '5 runs' in s:\n",
    "#                         lb += 5\n",
    "#                         myBallers.loc[ballerName, 'R'] += 5\n",
    "#                         score += 5\n",
    "\n",
    "#                 elif word in ['out', 'bowled', 'caught', 'run out']:\n",
    "#                             myBatsman.loc[batsmanName,'B'] = myBatsman.loc[batsmanName,'B'] + 1\n",
    "#                             myBallers.loc[ballerName,'B'] = myBallers.loc[ballerName,'B'] + 1\n",
    "#                             add = str(score) + '-' + str(wickets) + '(' + batsmanName + ',' + ball_no + ')'\n",
    "#                             fall.append(add)\n",
    "#                             myBatsman.loc[batsmanName,'status'] = 'out'\n",
    "#                             myBallers.loc[ballerName,'W'] = myBallers.loc[ballerName,'W'] + 1\n",
    "#                             wickets += 1\n",
    "\n",
    "\n",
    "\n",
    "\n",
    "#     # If ball is byes\n",
    "#     elif s[i] == 'byes' or s[i] == 'bye':\n",
    "#         myBatsman.loc[batsmanName, 'B'] = myBatsman.loc[batsmanName, 'B'] + 1\n",
    "#         myBallers.loc[ballerName,'R'] = myBallers.loc[ballerName,'R'] + 1\n",
    "#         if s[i] == 'four' or s[i] == '4' or s[i] == '4 runs':\n",
    "#             b += 4\n",
    "#             myBallers.loc[ballerName,'R'] = myBallers.loc[ballerName,'R'] + 4\n",
    "#             score += 4\n",
    "#         if s[i] == 'six' or s[i] == '6' or s[i] == '6 runs':\n",
    "#             b += 6\n",
    "#             myBallers.loc[ballerName,'R'] = myBallers.loc[ballerName,'R'] + 6\n",
    "#             score += 6\n",
    "#         if s[i] == '1 run' or s[i] == '1':\n",
    "#             b += 1\n",
    "#             myBallers.loc[ballerName, 'R'] = myBallers.loc[ballerName, 'R'] + 1\n",
    "#             score += 1\n",
    "#         if s[i] == '2 run' or s[i] == '2 run' or s[i] == '2':\n",
    "#             b += 2\n",
    "#             myBallers.loc[ballerName, 'R'] = myBallers.loc[ballerName, 'R'] + 2\n",
    "#             score += 2\n",
    "#         if s[i] == '3 run' or s[i] == '3 run' or s[i] == '3':\n",
    "#             b += 3\n",
    "#             myBallers.loc[ballerName,'R'] = myBallers.loc[ballerName,'R'] + 3\n",
    "#             score += 3\n",
    "#         if s[i] == '5 run' or s[i] == '5 run' or s[i] == '5':\n",
    "#             b += 5\n",
    "#             myBallers.loc[ballerName, 'R'] = myBallers.loc[ballerName, 'R'] + 5\n",
    "#             score += 5\n",
    "    \n",
    "    \n",
    "#     # If ball is legal and out\n",
    "#     else:\n",
    "#         myBatsman.loc[batsmanName,'B'] = myBatsman.loc[batsmanName,'B'] + 1\n",
    "#         myBallers.loc[ballerName,'B'] = myBallers.loc[ballerName,'B'] + 1\n",
    "#         add = str(score) + '-' + str(wickets) + '(' + batsmanName + ',' + ball_no + ')'\n",
    "#         fall.append(add)\n",
    "        \n",
    "#         content = line[i][2].split('!')\n",
    "#         # print(content[0])\n",
    "#         if content[0] == ' out bowled':\n",
    "#             myBatsman.loc[batsmanName,'status'] = 'out'\n",
    "#             myBallers.loc[ballerName,'W'] = myBallers.loc[ballerName,'W'] + 1\n",
    "#             wickets += 1\n",
    "\n",
    "#         elif content[0] == ' run out':\n",
    "#             myBatsman.loc[batsmanName,'status'] = 'run out'\n",
    "#             wickets += 1\n",
    "#         else:            \n",
    "#             content2 = content[0].split('by')\n",
    "#             myBatsman.loc[batsmanName,'status'] = 'out'\n",
    "#             myBallers.loc[ballerName,'W'] = myBallers.loc[ballerName,'W'] + 1\n",
    "#             wickets = wickets +1 \n",
    "            \n",
    "\n",
    "    \n",
    "#     # myBatsman.loc[batsmanName,'SR'] = int((myBatsman.loc[batsmanName,'R'] / myBatsman.loc[batsmanName,'B']) * 100)\n",
    "#     myBallers.loc[ballerName,'O'] = int(myBallers.loc[ballerName,'B']/6)\n",
    "#     # myBallers.loc[ballerName,'EC'] = myBallers.loc[ballerName,'R']/myBallers.loc[ballerName,'O']\n",
    "            \n",
    "# print('Total Score:',score)\n",
    "# print('Wickets:',wickets)"
   ]
  },
  {
   "cell_type": "code",
   "execution_count": 21,
   "id": "1576bf03",
   "metadata": {
    "execution": {
     "iopub.execute_input": "2025-04-10T08:14:55.905359Z",
     "iopub.status.busy": "2025-04-10T08:14:55.905359Z",
     "iopub.status.idle": "2025-04-10T08:14:55.954093Z",
     "shell.execute_reply": "2025-04-10T08:14:55.954093Z"
    }
   },
   "outputs": [
    {
     "name": "stdout",
     "output_type": "stream",
     "text": [
      "Total Score: 15\n",
      "Wickets: 0\n"
     ]
    },
    {
     "data": {
      "text/plain": [
       "[1, 1, 5, 5, 9, 9, 11, 11, 11, 11, 15]"
      ]
     },
     "execution_count": 21,
     "metadata": {},
     "output_type": "execute_result"
    }
   ],
   "source": [
    "extra = 0\n",
    "wide = 0\n",
    "score = 0\n",
    "wickets = 0\n",
    "noBall = 0\n",
    "b = 0\n",
    "lb = 0\n",
    "fall = []\n",
    "over_run = []\n",
    "over_wicket = []\n",
    "over=0\n",
    "\n",
    "o_run=0\n",
    "current_over = -1\n",
    "current_over_runs = 0\n",
    "o_wicket=0\n",
    "current_over_wickets = 0\n",
    "\n",
    "for i in range(lx):\n",
    "    o_wicket=0\n",
    "    ball_no = line[i][0]  # assuming over.ball format like 12.3 means 12th over, 3rd ball\n",
    "    if ball_no != current_over:\n",
    "        # New over started, so append runs from the last over and reset for the current over\n",
    "        if current_over != -1:\n",
    "            over_run.append(current_over_runs)\n",
    "            over_wicket.append(current_over_wickets)\n",
    "        current_over = ball_no\n",
    "        current_over_runs = 0  # \n",
    "        current_over_wickets = 0\n",
    "\n",
    "    # ball_no = line[i][0]\n",
    "    players = line[i][1].split('to')\n",
    "    batsmanName = players[1]\n",
    "    ballerName = players[0]\n",
    "    \n",
    "\n",
    "    # print(ball_no)\n",
    "    # print(ballerName)\n",
    "    # print(batsmanName)\n",
    "\n",
    "    line[i][2] = line[i][2].lower()\n",
    "    # print(len(line[i][3]))\n",
    "    # If ball is wide\n",
    "    if line[i][2] == ' wide':\n",
    "        wide += 1\n",
    "        score += 1\n",
    "        o_run = o_run + 1\n",
    "        o_wicket += 0\n",
    "        myBallers.loc[ballerName, 'R'] = myBallers.loc[ballerName, 'R'] + 1\n",
    "        myBallers.loc[ballerName, 'WD'] = myBallers.loc[ballerName, 'WD'] + 1\n",
    "\n",
    "    \n",
    "\n",
    "    \n",
    "    # If ball is no ball\n",
    "    elif line[i][2] == ' no ball':\n",
    "        noBall += 1\n",
    "        score += 1\n",
    "        o_run = o_run + 1\n",
    "        o_wicket += 0\n",
    "        myBallers.loc[ballerName, 'R'] = myBallers.loc[ballerName, 'R'] + 1\n",
    "        myBallers.loc[ballerName, 'NB'] = myBallers.loc[ballerName, 'NB'] + 1\n",
    "\n",
    "    # If ball is legal and 4 runs\n",
    "    elif line[i][2] == ' four' or line[i][2] == ' 4' or line[i][2] == ' 4 runs' or line[i][2] == ' FOUR' or line[i][2] == ' for run':\n",
    "        myBatsman.loc[batsmanName, '4s'] = myBatsman.loc[batsmanName, '4s'] + 1\n",
    "        myBatsman.loc[batsmanName, 'R'] = myBatsman.loc[batsmanName, 'R'] + 4\n",
    "        myBatsman.loc[batsmanName, 'B'] = myBatsman.loc[batsmanName, 'B'] + 1\n",
    "        myBallers.loc[ballerName, 'B'] = myBallers.loc[ballerName, 'B'] + 1\n",
    "        myBallers.loc[ballerName, 'R'] = myBallers.loc[ballerName, 'R'] + 4\n",
    "        score += 4\n",
    "        o_run = o_run + 4\n",
    "        o_wicket += 0\n",
    "\n",
    "    # If ball is legal and 6 runs\n",
    "    elif line[i][2] == ' six' or line[i][2] == ' 6' or line[i][2] == ' 6 runs' or line[i][2] == ' SIX':\n",
    "        myBatsman.loc[batsmanName, '6s'] = myBatsman.loc[batsmanName, '6s'] + 1\n",
    "        myBatsman.loc[batsmanName, 'R'] = myBatsman.loc[batsmanName, 'R'] + 6\n",
    "        myBatsman.loc[batsmanName, 'B'] = myBatsman.loc[batsmanName, 'B'] + 1\n",
    "        myBallers.loc[ballerName, 'B'] = myBallers.loc[ballerName, 'B'] + 1\n",
    "        myBallers.loc[ballerName, 'R'] = myBallers.loc[ballerName, 'R'] + 6\n",
    "        score += 6\n",
    "        o_run = o_run + 6\n",
    "        o_wicket += 0\n",
    "\n",
    "    # If ball is legal and 1 run\n",
    "    elif line[i][2] == ' 1 run' or line[i][2] == ' 1' or line[i][2] == ' one run' or line[i][2] == ' one-run':\n",
    "        myBatsman.loc[batsmanName, 'R'] = myBatsman.loc[batsmanName, 'R'] + 1\n",
    "        myBatsman.loc[batsmanName, 'B'] = myBatsman.loc[batsmanName, 'B'] + 1\n",
    "        myBallers.loc[ballerName, 'B'] = myBallers.loc[ballerName, 'B'] + 1\n",
    "        myBallers.loc[ballerName, 'R'] = myBallers.loc[ballerName, 'R'] + 1\n",
    "        score += 1\n",
    "        o_run = o_run + 1\n",
    "        o_wicket += 0\n",
    "\n",
    "    # If ball is legal and 2 runs\n",
    "    elif line[i][2] == ' 2 runs' or line[i][2] == ' 2' or line[i][2] == ' 2' or line[i][2] == ' to run' or line[i][2] == ' too run':\n",
    "        myBatsman.loc[batsmanName, 'R'] = myBatsman.loc[batsmanName, 'R'] + 2\n",
    "        myBatsman.loc[batsmanName, 'B'] = myBatsman.loc[batsmanName, 'B'] + 1\n",
    "        myBallers.loc[ballerName, 'B'] = myBallers.loc[ballerName, 'B'] + 1\n",
    "        myBallers.loc[ballerName, 'R'] = myBallers.loc[ballerName, 'R'] + 2\n",
    "        score += 2\n",
    "        o_run = o_run + 2\n",
    "        o_wicket += 0\n",
    "\n",
    "    # If ball is legal and 3 runs\n",
    "    elif line[i][2] == ' 3 runs' or line[i][2] == ' 3' or line[i][2] == ' 3':\n",
    "        myBatsman.loc[batsmanName, 'R'] = myBatsman.loc[batsmanName, 'R'] + 3\n",
    "        myBatsman.loc[batsmanName, 'B'] = myBatsman.loc[batsmanName, 'B'] + 1\n",
    "        myBallers.loc[ballerName, 'B'] = myBallers.loc[ballerName, 'B'] + 1\n",
    "        myBallers.loc[ballerName, 'R'] = myBallers.loc[ballerName, 'R'] + 3\n",
    "        score += 3\n",
    "        o_run = o_run + 3\n",
    "        o_wicket += 0\n",
    "\n",
    "    # If ball is legal and 5 runs\n",
    "    elif line[i][2] == ' 5 runs' or line[i][2] == ' 5' or line[i][2] == ' 5':\n",
    "        myBatsman.loc[batsmanName, 'B'] = myBatsman.loc[batsmanName, 'B'] + 1\n",
    "        myBallers.loc[ballerName, 'B'] = myBallers.loc[ballerName, 'B'] + 1\n",
    "        myBallers.loc[ballerName, 'R'] = myBallers.loc[ballerName, 'R'] + 5\n",
    "        score += 5\n",
    "        o_run = o_run + 5\n",
    "        o_wicket += 0\n",
    "\n",
    "    # If ball is no run\n",
    "    elif line[i][2] == ' no run' or line[i][2] == ' no' or line[i][2] == ' no-run':\n",
    "        myBatsman.loc[batsmanName, 'B'] = myBatsman.loc[batsmanName, 'B'] + 1\n",
    "        myBallers.loc[ballerName, 'B'] = myBallers.loc[ballerName, 'B'] + 1\n",
    "\n",
    "    # # If ball is leg byes\n",
    "    # elif line[i][2] == ' leg byes' or line[i][2] == ' leg bye' or line[i][2] == ' lb':\n",
    "    #     myBatsman.loc[batsmanName, 'B'] = myBatsman.loc[batsmanName, 'B'] + 1\n",
    "    #     myBallers.loc[ballerName, 'B'] = myBallers.loc[ballerName, 'B'] + 1\n",
    "    #     if line[i][3] == ' four' or line[i][3] == ' 4' or line[i][3] == ' 4 runs':\n",
    "    #         lb += 4\n",
    "    #         myBallers.loc[ballerName, 'R'] = myBallers.loc[ballerName, 'R'] + 4\n",
    "    #         score += 4\n",
    "    #     if line[i][3] == ' six' or line[i][3] == ' 6' or line[i][3] == ' 6 runs':\n",
    "    #         lb += 6\n",
    "    #         myBallers.loc[ballerName, 'R'] = myBallers.loc[ballerName, 'R'] + 6\n",
    "    #         score += 6\n",
    "    #     if line[i][3] == ' 1 run' or line[i][3] == ' 1':\n",
    "    #         lb += 1\n",
    "    #         myBallers.loc[ballerName, 'R'] = myBallers.loc[ballerName, 'R'] + 1\n",
    "    #         score += 1\n",
    "    #     if line[i][3] == ' 2 run' or line[i][3] == ' 2 run' or line[i][3] == '  2':\n",
    "    #         lb += 2\n",
    "    #         myBallers.loc[ballerName, 'R'] = myBallers.loc[ballerName, 'R'] + 2\n",
    "    #         score += 2\n",
    "    #     if line[i][3] == ' 3 run' or line[i][3] == ' 3 run' or line[i][3] == '  3':\n",
    "    #         lb += 3\n",
    "    #         myBallers.loc[ballerName, 'R'] = myBallers.loc[ballerName, 'R'] + 3\n",
    "    #         score += 3\n",
    "    #     if line[i][3] == ' 5 run' or line[i][3] == ' 5 run' or line[i][3] == '  5':\n",
    "    #         lb += 5\n",
    "    #         myBallers.loc[ballerName, 'R'] = myBallers.loc[ballerName, 'R'] + 5\n",
    "    #         score += 5\n",
    "\n",
    "    elif line[i][2] == ' leg byes' or line[i][2] == ' leg bye' or line[i][2] == ' lb' or line[i][2] == ' byes':\n",
    "        myBatsman.loc[batsmanName, 'B'] = myBatsman.loc[batsmanName, 'B'] + 1\n",
    "        myBallers.loc[ballerName, 'B'] = myBallers.loc[ballerName, 'B'] + 1\n",
    "        if line[i][3] == ' four' or line[i][3] == ' 4' or line[i][3] == ' 4 runs' or line[i][2] == ' FOUR' or line[i][2] == ' for run':\n",
    "            lb += 4\n",
    "            myBallers.loc[ballerName, 'R'] = myBallers.loc[ballerName, 'R'] + 4\n",
    "            score += 4\n",
    "            o_run = o_run + 4\n",
    "            o_wicket += 0\n",
    "        if line[i][3] == ' six' or line[i][3] == ' 6' or line[i][3] == ' 6 runs' or line[i][2] == ' SIX':\n",
    "            lb += 6\n",
    "            myBallers.loc[ballerName, 'R'] = myBallers.loc[ballerName, 'R'] + 6\n",
    "            score += 6\n",
    "            o_run = o_run + 6\n",
    "            o_wicket += 0\n",
    "        if line[i][3] == ' 1 run' or line[i][3] == ' 1' or line[i][3] == ' one run':\n",
    "            lb += 1\n",
    "            myBallers.loc[ballerName, 'R'] = myBallers.loc[ballerName, 'R'] + 1\n",
    "            score += 1\n",
    "            o_run = o_run + 1\n",
    "            o_wicket += 0\n",
    "        if line[i][3] == ' 2 run' or line[i][3] == ' 2 run' or line[i][3] == ' 2' or line[i][3] == ' to run' or line[i][3] == ' too run':\n",
    "            lb += 2\n",
    "            myBallers.loc[ballerName, 'R'] = myBallers.loc[ballerName, 'R'] + 2\n",
    "            score += 2\n",
    "            o_run = o_run + 2\n",
    "            o_wicket += 0\n",
    "        if line[i][3] == ' 3 run' or line[i][3] == ' 3 run' or line[i][3] == '  3':\n",
    "            lb += 3\n",
    "            myBallers.loc[ballerName, 'R'] = myBallers.loc[ballerName, 'R'] + 3\n",
    "            score += 3\n",
    "            o_run = o_run + 3\n",
    "            o_wicket += 0\n",
    "        if line[i][3] == ' 5 run' or line[i][3] == ' 5 run' or line[i][3] == '  5':\n",
    "            lb += 5\n",
    "            myBallers.loc[ballerName, 'R'] = myBallers.loc[ballerName, 'R'] + 5\n",
    "            score += 5\n",
    "            o_run = o_run + 5\n",
    "            o_wicket += 0\n",
    "\n",
    "    # If ball is byes\n",
    "    elif line[i][2] == ' byes' or line[i][2] == ' bye':\n",
    "        myBatsman.loc[batsmanName, 'B'] = myBatsman.loc[batsmanName, 'B'] + 1\n",
    "        myBallers.loc[ballerName,'R'] = myBallers.loc[ballerName,'R'] + 1\n",
    "        if line[i][3] == ' four' or line[i][3] == ' 4' or line[i][3] == ' 4 runs' or line[i][3] == ' for run':\n",
    "            b += 4\n",
    "            myBallers.loc[ballerName,'R'] = myBallers.loc[ballerName,'R'] + 4\n",
    "            score += 4\n",
    "            o_run = o_run + 4\n",
    "            o_wicket += 0\n",
    "        if line[i][3] == ' six' or line[i][3] == ' 6' or line[i][3] == ' 6 runs':\n",
    "            b += 6\n",
    "            myBallers.loc[ballerName,'R'] = myBallers.loc[ballerName,'R'] + 6\n",
    "            score += 6\n",
    "            o_run = o_run + 6\n",
    "            o_wicket += 0\n",
    "        if line[i][3] == ' 1 run' or line[i][3] == ' 1' or line[i][3] == ' one run':\n",
    "            b += 1\n",
    "            myBallers.loc[ballerName, 'R'] = myBallers.loc[ballerName, 'R'] + 1\n",
    "            score += 1\n",
    "            o_run = o_run + 1\n",
    "            o_wicket += 0\n",
    "        if line[i][3] == ' 2 run' or line[i][3] == ' 2 run' or line[i][3] == ' 2' or line[i][3] == ' to run' or line[i][3] == ' too run' :\n",
    "            b += 2\n",
    "            myBallers.loc[ballerName, 'R'] = myBallers.loc[ballerName, 'R'] + 2\n",
    "            score += 2\n",
    "            o_run = o_run + 2\n",
    "            o_wicket += 0\n",
    "        if line[i][3] == ' 3 run' or line[i][3] == ' 3 run' or line[i][3] == '  3':\n",
    "            b += 3\n",
    "            myBallers.loc[ballerName,'R'] = myBallers.loc[ballerName,'R'] + 3\n",
    "            score += 3\n",
    "            o_run = o_run + 3\n",
    "            o_wicket += 0\n",
    "        if line[i][3] == ' 5 run' or line[i][3] == ' 5 run' or line[i][3] == ' 5':\n",
    "            b += 5\n",
    "            myBallers.loc[ballerName, 'R'] = myBallers.loc[ballerName, 'R'] + 5\n",
    "            score += 5\n",
    "            o_run = o_run + 5\n",
    "            o_wicket += 0\n",
    "\n",
    "\n",
    "    elif len(line[i][2]) > 0:\n",
    "            sentence = line[i][2]\n",
    "            s = sentence.split(\" \")\n",
    "\n",
    "\n",
    "    \n",
    "            # Iterate through the words in the sentence\n",
    "            for word in s[:2]:\n",
    "                word = word.lower().strip()  # Ensure all words are lowercase and stripped of whitespace\n",
    "                # print(word)\n",
    "                # Check if ball is wide\n",
    "                if word == 'wide':\n",
    "                    wide += 1\n",
    "                    score += 1\n",
    "                    o_run = o_run + 1\n",
    "                    o_wicket += 0\n",
    "                    myBallers.loc[ballerName, 'R'] += 1\n",
    "                    myBallers.loc[ballerName, 'WD'] += 1\n",
    "\n",
    "                # Check if ball is no ball\n",
    "                elif word == 'no' and 'ball' in s:\n",
    "                    noBall += 1\n",
    "                    score += 1\n",
    "                    o_run = o_run + 1\n",
    "                    o_wicket += 0\n",
    "                    myBallers.loc[ballerName, 'R'] += 1\n",
    "                    myBallers.loc[ballerName, 'NB'] += 1\n",
    "\n",
    "                # Check if it's a four\n",
    "                elif word in ['four', '4', '4 runs', '4th','for run']:\n",
    "                    myBatsman.loc[batsmanName, '4s'] += 1\n",
    "                    myBatsman.loc[batsmanName, 'R'] += 4\n",
    "                    myBatsman.loc[batsmanName, 'B'] += 1\n",
    "                    myBallers.loc[ballerName, 'B'] += 1\n",
    "                    myBallers.loc[ballerName, 'R'] += 4\n",
    "                    score += 4\n",
    "                    o_run = o_run + 4\n",
    "                    o_wicket += 0\n",
    "\n",
    "                # Check if it's a six\n",
    "                elif word in ['six', '6', '6 runs', '6th']:\n",
    "                    myBatsman.loc[batsmanName, '6s'] += 1\n",
    "                    myBatsman.loc[batsmanName, 'R'] += 6\n",
    "                    myBatsman.loc[batsmanName, 'B'] += 1\n",
    "                    myBallers.loc[ballerName, 'B'] += 1\n",
    "                    myBallers.loc[ballerName, 'R'] += 6\n",
    "                    score += 6\n",
    "                    o_run = o_run + 6\n",
    "                    o_wicket += 0\n",
    "\n",
    "                # Check for 1 run\n",
    "                elif word in ['1', '1 run', 'one', 'one-run']:\n",
    "                    myBatsman.loc[batsmanName, 'R'] += 1\n",
    "                    myBatsman.loc[batsmanName, 'B'] += 1\n",
    "                    myBallers.loc[ballerName, 'B'] += 1\n",
    "                    myBallers.loc[ballerName, 'R'] += 1\n",
    "                    score += 1\n",
    "                    o_run = o_run + 1\n",
    "                    o_wicket += 0\n",
    "\n",
    "                # Check for 2 runs\n",
    "                elif word in ['2', '2 runs', 'two', 'to run', 'too run']:\n",
    "                    myBatsman.loc[batsmanName, 'R'] += 2\n",
    "                    myBatsman.loc[batsmanName, 'B'] += 1\n",
    "                    myBallers.loc[ballerName, 'B'] += 1\n",
    "                    myBallers.loc[ballerName, 'R'] += 2\n",
    "                    score += 2\n",
    "                    o_run = o_run + 2\n",
    "                    o_wicket += 0\n",
    "\n",
    "        # Check for 3 runs\n",
    "                elif word in ['3', '3 runs', 'three']:\n",
    "                    myBatsman.loc[batsmanName, 'R'] += 3\n",
    "                    myBatsman.loc[batsmanName, 'B'] += 1\n",
    "                    myBallers.loc[ballerName, 'B'] += 1\n",
    "                    myBallers.loc[ballerName, 'R'] += 3\n",
    "                    score += 3\n",
    "                    o_run = o_run + 3\n",
    "                    o_wicket += 0\n",
    "\n",
    "                # Check for 5 runs\n",
    "                elif word in ['5', '5 runs', 'five']:\n",
    "                    myBatsman.loc[batsmanName, 'B'] += 1\n",
    "                    myBallers.loc[ballerName, 'B'] += 1\n",
    "                    myBallers.loc[ballerName, 'R'] += 5\n",
    "                    score += 5\n",
    "                    o_run = o_run + 5\n",
    "                    o_wicket += 0\n",
    "\n",
    "        # Check for no run\n",
    "                elif word in ['no run', 'no', 'no-run']:\n",
    "                    myBatsman.loc[batsmanName, 'B'] += 1\n",
    "                    myBallers.loc[ballerName, 'B'] += 1\n",
    "\n",
    "        # Check for leg byes\n",
    "                elif word in ['leg byes', 'leg bye', 'lb', 'byes']:\n",
    "                    myBatsman.loc[batsmanName, 'B'] += 1\n",
    "                    myBallers.loc[ballerName, 'B'] += 1\n",
    "                    if 'four' in s:\n",
    "                        lb += 4\n",
    "                        myBallers.loc[ballerName, 'R'] += 4\n",
    "                        score += 4\n",
    "                        o_run = o_run + 4\n",
    "                        o_wicket += 0\n",
    "                    elif 'six' in s:\n",
    "                        lb += 6\n",
    "                        myBallers.loc[ballerName, 'R'] += 6\n",
    "                        score += 6\n",
    "                        o_run = o_run + 6\n",
    "                        o_wicket += 0\n",
    "                    elif '1 run' in s:\n",
    "                        lb += 1\n",
    "                        myBallers.loc[ballerName, 'R'] += 1\n",
    "                        score += 1\n",
    "                        o_run = o_run + 1\n",
    "                        o_wicket += 0\n",
    "                    elif '2 runs' in s:\n",
    "                        lb += 2\n",
    "                        myBallers.loc[ballerName, 'R'] += 2\n",
    "                        score += 2\n",
    "                        o_run = o_run + 2\n",
    "                        o_wicket += 0\n",
    "                    elif '3 runs' in s:\n",
    "                        lb += 3\n",
    "                        myBallers.loc[ballerName, 'R'] += 3\n",
    "                        score += 3\n",
    "                        o_run = o_run + 3\n",
    "                        o_wicket += 0\n",
    "                    elif '5 runs' in s:\n",
    "                        lb += 5\n",
    "                        myBallers.loc[ballerName, 'R'] += 5\n",
    "                        score += 5\n",
    "                        o_run = o_run + 5\n",
    "                        o_wicket += 0\n",
    "\n",
    "                elif word in ['out', 'bowled', 'caught', 'run out']:\n",
    "                            myBatsman.loc[batsmanName,'B'] = myBatsman.loc[batsmanName,'B'] + 1\n",
    "                            myBallers.loc[ballerName,'B'] = myBallers.loc[ballerName,'B'] + 1\n",
    "                            add = str(score) + '-' + str(wickets) + '(' + batsmanName + ',' + ball_no + ')'\n",
    "                            fall.append(add)\n",
    "                            myBatsman.loc[batsmanName,'status'] = 'out'\n",
    "                            myBallers.loc[ballerName,'W'] = myBallers.loc[ballerName,'W'] + 1\n",
    "                            wickets += 1\n",
    "                            o_wicket += 1\n",
    "\n",
    "\n",
    "\n",
    "\n",
    "    # If ball is byes\n",
    "    elif s[i] == 'byes' or s[i] == 'bye':\n",
    "        myBatsman.loc[batsmanName, 'B'] = myBatsman.loc[batsmanName, 'B'] + 1\n",
    "        myBallers.loc[ballerName,'R'] = myBallers.loc[ballerName,'R'] + 1\n",
    "        if s[i] == 'four' or s[i] == '4' or s[i] == '4 runs' or s[i] == 'for run':\n",
    "            b += 4\n",
    "            myBallers.loc[ballerName,'R'] = myBallers.loc[ballerName,'R'] + 4\n",
    "            score += 4\n",
    "            o_run = o_run + 4\n",
    "            o_wicket += 0\n",
    "        if s[i] == 'six' or s[i] == '6' or s[i] == '6 runs':\n",
    "            b += 6\n",
    "            myBallers.loc[ballerName,'R'] = myBallers.loc[ballerName,'R'] + 6\n",
    "            score += 6\n",
    "            o_run = o_run + 6\n",
    "            o_wicket += 0\n",
    "        if s[i] == '1 run' or s[i] == '1':\n",
    "            b += 1\n",
    "            myBallers.loc[ballerName, 'R'] = myBallers.loc[ballerName, 'R'] + 1\n",
    "            score += 1\n",
    "            o_run = o_run + 1\n",
    "            o_wicket += 0\n",
    "        if s[i] == '2 run' or s[i] == '2 run' or s[i] == '2' or s[i] == 'to run' or s[i] == 'too run':\n",
    "            b += 2\n",
    "            myBallers.loc[ballerName, 'R'] = myBallers.loc[ballerName, 'R'] + 2\n",
    "            score += 2\n",
    "            o_run = o_run + 2\n",
    "            o_wicket += 0\n",
    "        if s[i] == '3 run' or s[i] == '3 run' or s[i] == '3':\n",
    "            b += 3\n",
    "            myBallers.loc[ballerName,'R'] = myBallers.loc[ballerName,'R'] + 3\n",
    "            score += 3\n",
    "            o_run = o_run + 3\n",
    "            o_wicket += 0\n",
    "        if s[i] == '5 run' or s[i] == '5 run' or s[i] == '5':\n",
    "            b += 5\n",
    "            myBallers.loc[ballerName, 'R'] = myBallers.loc[ballerName, 'R'] + 5\n",
    "            score += 5\n",
    "            o_run = o_run + 5\n",
    "            o_wicket += 0\n",
    "    \n",
    "    \n",
    "    # If ball is legal and out\n",
    "    else:\n",
    "        myBatsman.loc[batsmanName,'B'] = myBatsman.loc[batsmanName,'B'] + 1\n",
    "        myBallers.loc[ballerName,'B'] = myBallers.loc[ballerName,'B'] + 1\n",
    "        add = str(score) + '-' + str(wickets) + '(' + batsmanName + ',' + ball_no + ')'\n",
    "        fall.append(add)\n",
    "        \n",
    "        content = line[i][2].split('!')\n",
    "        # print(content[0])\n",
    "        if content[0] == ' out bowled':\n",
    "            myBatsman.loc[batsmanName,'status'] = 'out'\n",
    "            myBallers.loc[ballerName,'W'] = myBallers.loc[ballerName,'W'] + 1\n",
    "            wickets += 1\n",
    "            o_wicket += 1\n",
    "\n",
    "        elif content[0] == ' run out':\n",
    "            myBatsman.loc[batsmanName,'status'] = 'run out'\n",
    "            wickets += 1\n",
    "            o_wicket += 1\n",
    "        else:            \n",
    "            content2 = content[0].split('by')\n",
    "            myBatsman.loc[batsmanName,'status'] = 'out'\n",
    "            myBallers.loc[ballerName,'W'] = myBallers.loc[ballerName,'W'] + 1\n",
    "            wickets = wickets +1\n",
    "            o_wicket += 1\n",
    "\n",
    "    current_over_runs += o_run\n",
    "    current_over_wickets += o_wicket\n",
    "    \n",
    "            \n",
    "\n",
    "    if current_over != -1:\n",
    "        over_run.append(current_over_runs) \n",
    "        over_wicket.append(current_over_wickets)\n",
    "\n",
    "    # myBatsman.loc[batsmanName,'SR'] = int((myBatsman.loc[batsmanName,'R'] / myBatsman.loc[batsmanName,'B']) * 100)\n",
    "    myBallers.loc[ballerName,'O'] = int(myBallers.loc[ballerName,'B']/6)\n",
    "    # over += 1\n",
    "    # myBallers.loc[ballerName,'EC'] = myBallers.loc[ballerName,'R']/myBallers.loc[ballerName,'O']\n",
    "            \n",
    "print('Total Score:',score)\n",
    "print('Wickets:',wickets)\n",
    "over_run\n",
    "# over_wicket\n",
    "# over"
   ]
  },
  {
   "cell_type": "code",
   "execution_count": 22,
   "id": "6636ff8c-5805-40d1-a0e5-2c52fda8d504",
   "metadata": {
    "execution": {
     "iopub.execute_input": "2025-04-10T08:14:55.956099Z",
     "iopub.status.busy": "2025-04-10T08:14:55.956099Z",
     "iopub.status.idle": "2025-04-10T08:14:55.962109Z",
     "shell.execute_reply": "2025-04-10T08:14:55.961846Z"
    }
   },
   "outputs": [
    {
     "data": {
      "text/html": [
       "<div>\n",
       "<style scoped>\n",
       "    .dataframe tbody tr th:only-of-type {\n",
       "        vertical-align: middle;\n",
       "    }\n",
       "\n",
       "    .dataframe tbody tr th {\n",
       "        vertical-align: top;\n",
       "    }\n",
       "\n",
       "    .dataframe thead th {\n",
       "        text-align: right;\n",
       "    }\n",
       "</style>\n",
       "<table border=\"1\" class=\"dataframe\">\n",
       "  <thead>\n",
       "    <tr style=\"text-align: right;\">\n",
       "      <th></th>\n",
       "      <th>status</th>\n",
       "      <th>R</th>\n",
       "      <th>B</th>\n",
       "      <th>4s</th>\n",
       "      <th>6s</th>\n",
       "      <th>SR</th>\n",
       "    </tr>\n",
       "  </thead>\n",
       "  <tbody>\n",
       "    <tr>\n",
       "      <th>Rohit</th>\n",
       "      <td>not out</td>\n",
       "      <td>1</td>\n",
       "      <td>1</td>\n",
       "      <td>0</td>\n",
       "      <td>0</td>\n",
       "      <td>0</td>\n",
       "    </tr>\n",
       "    <tr>\n",
       "      <th>Kohli</th>\n",
       "      <td>not out</td>\n",
       "      <td>14</td>\n",
       "      <td>5</td>\n",
       "      <td>3</td>\n",
       "      <td>0</td>\n",
       "      <td>0</td>\n",
       "    </tr>\n",
       "  </tbody>\n",
       "</table>\n",
       "</div>"
      ],
      "text/plain": [
       "        status   R  B  4s  6s  SR\n",
       "Rohit  not out   1  1   0   0   0\n",
       "Kohli  not out  14  5   3   0   0"
      ]
     },
     "execution_count": 22,
     "metadata": {},
     "output_type": "execute_result"
    }
   ],
   "source": [
    "myBatsman"
   ]
  },
  {
   "cell_type": "code",
   "execution_count": 23,
   "id": "99ec92bc-bfbd-4f10-b707-4256a4227f4d",
   "metadata": {
    "execution": {
     "iopub.execute_input": "2025-04-10T08:14:55.964252Z",
     "iopub.status.busy": "2025-04-10T08:14:55.963117Z",
     "iopub.status.idle": "2025-04-10T08:14:55.969054Z",
     "shell.execute_reply": "2025-04-10T08:14:55.969054Z"
    }
   },
   "outputs": [
    {
     "data": {
      "text/html": [
       "<div>\n",
       "<style scoped>\n",
       "    .dataframe tbody tr th:only-of-type {\n",
       "        vertical-align: middle;\n",
       "    }\n",
       "\n",
       "    .dataframe tbody tr th {\n",
       "        vertical-align: top;\n",
       "    }\n",
       "\n",
       "    .dataframe thead th {\n",
       "        text-align: right;\n",
       "    }\n",
       "</style>\n",
       "<table border=\"1\" class=\"dataframe\">\n",
       "  <thead>\n",
       "    <tr style=\"text-align: right;\">\n",
       "      <th></th>\n",
       "      <th>O</th>\n",
       "      <th>M</th>\n",
       "      <th>R</th>\n",
       "      <th>W</th>\n",
       "      <th>NB</th>\n",
       "      <th>WD</th>\n",
       "      <th>EC</th>\n",
       "      <th>B</th>\n",
       "    </tr>\n",
       "  </thead>\n",
       "  <tbody>\n",
       "    <tr>\n",
       "      <th>Marco Jansen</th>\n",
       "      <td>1</td>\n",
       "      <td>0</td>\n",
       "      <td>15</td>\n",
       "      <td>0</td>\n",
       "      <td>0</td>\n",
       "      <td>0</td>\n",
       "      <td>0</td>\n",
       "      <td>6</td>\n",
       "    </tr>\n",
       "  </tbody>\n",
       "</table>\n",
       "</div>"
      ],
      "text/plain": [
       "               O  M   R  W  NB  WD  EC  B\n",
       "Marco Jansen   1  0  15  0   0   0   0  6"
      ]
     },
     "execution_count": 23,
     "metadata": {},
     "output_type": "execute_result"
    }
   ],
   "source": [
    "myBallers"
   ]
  },
  {
   "cell_type": "code",
   "execution_count": 24,
   "id": "68dd9454-8314-4ee3-9843-68526ea687b8",
   "metadata": {
    "execution": {
     "iopub.execute_input": "2025-04-10T08:14:55.971294Z",
     "iopub.status.busy": "2025-04-10T08:14:55.971294Z",
     "iopub.status.idle": "2025-04-10T08:14:55.980526Z",
     "shell.execute_reply": "2025-04-10T08:14:55.980526Z"
    }
   },
   "outputs": [],
   "source": [
    "myBatsman_reset = myBatsman.reset_index()\n",
    "\n",
    "# Rename the index column to 'Batsman' (optional)\n",
    "myBatsman_reset = myBatsman_reset.rename(columns={'index': 'Batsman'})\n",
    "\n",
    "# Save DataFrame to CSV\n",
    "myBatsman_reset.to_csv('match/myBatsman.csv', index=False)"
   ]
  },
  {
   "cell_type": "code",
   "execution_count": 25,
   "id": "f6b774e4",
   "metadata": {
    "execution": {
     "iopub.execute_input": "2025-04-10T08:14:55.982833Z",
     "iopub.status.busy": "2025-04-10T08:14:55.982833Z",
     "iopub.status.idle": "2025-04-10T08:14:55.987975Z",
     "shell.execute_reply": "2025-04-10T08:14:55.987975Z"
    }
   },
   "outputs": [],
   "source": [
    "myBallers_reset = myBallers.reset_index()\n",
    "\n",
    "# Rename the index column to 'Ballers' (optional)\n",
    "myBallers_reset = myBallers_reset.rename(columns={'index': 'Baller'})\n",
    "\n",
    "# Save DataFrame to CSV\n",
    "myBallers_reset.to_csv('match/myBallers.csv', index=False)"
   ]
  },
  {
   "cell_type": "code",
   "execution_count": 26,
   "id": "9015b499",
   "metadata": {
    "execution": {
     "iopub.execute_input": "2025-04-10T08:14:55.989981Z",
     "iopub.status.busy": "2025-04-10T08:14:55.989981Z",
     "iopub.status.idle": "2025-04-10T08:14:55.994054Z",
     "shell.execute_reply": "2025-04-10T08:14:55.993549Z"
    }
   },
   "outputs": [],
   "source": [
    "with open('match/total_score.txt', 'w') as f:\n",
    "    f.write(str(score))"
   ]
  },
  {
   "cell_type": "code",
   "execution_count": 27,
   "id": "0fe4c841",
   "metadata": {
    "execution": {
     "iopub.execute_input": "2025-04-10T08:14:55.996065Z",
     "iopub.status.busy": "2025-04-10T08:14:55.996065Z",
     "iopub.status.idle": "2025-04-10T08:14:55.999239Z",
     "shell.execute_reply": "2025-04-10T08:14:55.999239Z"
    }
   },
   "outputs": [],
   "source": [
    "with open('match/wickets.txt', 'w') as f:\n",
    "    f.write(str(wickets))"
   ]
  },
  {
   "cell_type": "code",
   "execution_count": 28,
   "id": "29a8be23",
   "metadata": {
    "execution": {
     "iopub.execute_input": "2025-04-10T08:14:56.001133Z",
     "iopub.status.busy": "2025-04-10T08:14:56.001133Z",
     "iopub.status.idle": "2025-04-10T08:14:56.005703Z",
     "shell.execute_reply": "2025-04-10T08:14:56.005703Z"
    }
   },
   "outputs": [],
   "source": [
    "# Convert over_run array to DataFrame\n",
    "over_run_df = pd.DataFrame(over_run)\n",
    "\n",
    "# Save the DataFrame to CSV\n",
    "over_run_df.to_csv('match/over_run.csv', index=False)"
   ]
  },
  {
   "cell_type": "code",
   "execution_count": 29,
   "id": "8da0b65f",
   "metadata": {
    "execution": {
     "iopub.execute_input": "2025-04-10T08:14:56.008714Z",
     "iopub.status.busy": "2025-04-10T08:14:56.007714Z",
     "iopub.status.idle": "2025-04-10T08:14:56.012113Z",
     "shell.execute_reply": "2025-04-10T08:14:56.012113Z"
    }
   },
   "outputs": [],
   "source": [
    "over_wicket_df = pd.DataFrame(over_wicket)\n",
    "\n",
    "# Save the DataFrame to CSV\n",
    "over_wicket_df.to_csv('match/over_wicket.csv', index=False)"
   ]
  }
 ],
 "metadata": {
  "kernelspec": {
   "display_name": "Python 3",
   "language": "python",
   "name": "python3"
  },
  "language_info": {
   "codemirror_mode": {
    "name": "ipython",
    "version": 3
   },
   "file_extension": ".py",
   "mimetype": "text/x-python",
   "name": "python",
   "nbconvert_exporter": "python",
   "pygments_lexer": "ipython3",
   "version": "3.11.2"
  }
 },
 "nbformat": 4,
 "nbformat_minor": 5
}
