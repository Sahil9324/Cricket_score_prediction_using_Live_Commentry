{
 "cells": [
  {
   "cell_type": "code",
   "execution_count": 1,
   "id": "ce618c15-742c-466d-b270-fda29cb82056",
   "metadata": {},
   "outputs": [],
   "source": [
    "import pickle\n",
    "import pandas as pd\n",
    "\n",
    "# Load the model\n",
    "pipe = pickle.load(open('pipe.pkl', 'rb'))\n",
    "\n",
    "# Define teams and cities\n",
    "teams = ['Australia', 'India', 'Bangladesh', 'New Zealand', 'South Africa', 'England', 'West Indies', 'Afghanistan', 'Pakistan', 'Sri Lanka']\n",
    "cities = ['Colombo', 'Mirpur', 'Johannesburg', 'Dubai', 'Auckland', 'Cape Town', 'London', 'Pallekele', 'Barbados', 'Sydney', 'Melbourne', 'Durban', 'St Lucia', 'Wellington', 'Lauderhill', 'Hamilton', 'Centurion', 'Manchester', 'Abu Dhabi', 'Mumbai', 'Nottingham', 'Southampton', 'Mount Maunganui', 'Chittagong', 'Kolkata', 'Lahore', 'Delhi', 'Nagpur', 'Chandigarh', 'Adelaide', 'Bangalore', 'St Kitts', 'Cardiff', 'Christchurch', 'Trinidad']\n",
    "\n",
    "# Define function to predict score\n",
    "def predict_score(batting_team, bowling_team, city, current_score, overs, wickets, last_five):\n",
    "    balls_left = 120 - (overs * 6)\n",
    "    wickets_left = 10 - wickets\n",
    "    crr = current_score / overs\n",
    "\n",
    "    input_df = pd.DataFrame({\n",
    "        'batting_team': [batting_team],\n",
    "        'bowling_team': [bowling_team],\n",
    "        'city': [city],\n",
    "        'current_score': [current_score],\n",
    "        'balls_left': [balls_left],\n",
    "        'wickets_left': [wickets],\n",
    "        'crr': [crr],\n",
    "        'last_five': [last_five]\n",
    "    })\n",
    "\n",
    "    result = pipe.predict(input_df)\n",
    "    return int(result[0])\n",
    "\n",
    "# Example usage\n"
   ]
  },
  {
   "cell_type": "code",
   "execution_count": 3,
   "id": "e80315db-70f7-4c55-b897-c5653a4393b0",
   "metadata": {},
   "outputs": [
    {
     "name": "stdout",
     "output_type": "stream",
     "text": [
      "Predicted Score: 157\n"
     ]
    }
   ],
   "source": [
    "batting_team = 'India'\n",
    "bowling_team = 'South Africa'\n",
    "city = 'Barbados'\n",
    "current_score = 134\n",
    "overs = 17\n",
    "wickets = 4\n",
    "last_five = 41 \n",
    "\n",
    "predicted_score = predict_score(batting_team, bowling_team, city, current_score, overs, wickets, last_five)\n",
    "print(\"Predicted Score:\", predicted_score)\n"
   ]
  },
  {
   "cell_type": "code",
   "execution_count": null,
   "id": "56fb2d52-6378-46d3-a745-41146368f995",
   "metadata": {},
   "outputs": [],
   "source": []
  }
 ],
 "metadata": {
  "kernelspec": {
   "display_name": "Python 3",
   "language": "python",
   "name": "python3"
  },
  "language_info": {
   "codemirror_mode": {
    "name": "ipython",
    "version": 3
   },
   "file_extension": ".py",
   "mimetype": "text/x-python",
   "name": "python",
   "nbconvert_exporter": "python",
   "pygments_lexer": "ipython3",
   "version": "3.11.2"
  }
 },
 "nbformat": 4,
 "nbformat_minor": 5
}
